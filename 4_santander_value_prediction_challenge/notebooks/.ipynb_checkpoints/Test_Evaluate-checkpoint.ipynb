{
 "cells": [
  {
   "cell_type": "code",
   "execution_count": 3,
   "metadata": {},
   "outputs": [],
   "source": [
    "import pandas as pd\n",
    "import numpy as np\n",
    "import pickle"
   ]
  },
  {
   "cell_type": "code",
   "execution_count": 4,
   "metadata": {},
   "outputs": [],
   "source": [
    "data_path='../raw_data/'\n",
    "interdata_path='../interdata/'\n",
    "model_path='../models/'"
   ]
  },
  {
   "cell_type": "code",
   "execution_count": null,
   "metadata": {},
   "outputs": [],
   "source": [
    "san_te=pd.read_csv(data_path+'test.csv')"
   ]
  },
  {
   "cell_type": "markdown",
   "metadata": {},
   "source": [
    "## Model_San1"
   ]
  },
  {
   "cell_type": "code",
   "execution_count": null,
   "metadata": {},
   "outputs": [],
   "source": [
    "def transform_feat(df,c,func='sqrt'):\n",
    "    if func=='sqrt':\n",
    "        return np.sqrt(df[c])\n",
    "    elif func=='quadratic':\n",
    "        return df[c]**2\n",
    "    elif func=='ln':\n",
    "        return np.log(df[c]+1)\n",
    "    elif func=='log10':\n",
    "        return np.log10(df[c]+1)\n",
    "    elif func=='logistic':\n",
    "        return 1/(1+np.exp(-df[c]))\n",
    "    elif func=='exp':\n",
    "        return np.exp(-df[c])\n",
    "    else:\n",
    "        return 1"
   ]
  },
  {
   "cell_type": "code",
   "execution_count": null,
   "metadata": {},
   "outputs": [],
   "source": [
    "funcs=['sqrt','quadratic','ln','log10','logistic','exp']"
   ]
  },
  {
   "cell_type": "code",
   "execution_count": null,
   "metadata": {},
   "outputs": [],
   "source": [
    "san_tr1=pd.read_csv(interdata_path+\"data_train_transform_only.csv\")\n",
    "# Model\n",
    "Model_San1 = pickle.load(open(model_path+'Model_San1.sav', 'rb'))"
   ]
  },
  {
   "cell_type": "code",
   "execution_count": null,
   "metadata": {},
   "outputs": [],
   "source": [
    "col_met=san_tr1.columns.tolist()\n",
    "del san_tr1"
   ]
  },
  {
   "cell_type": "code",
   "execution_count": null,
   "metadata": {},
   "outputs": [],
   "source": [
    "\n",
    "\n",
    "for c in col_met:\n",
    "    if len(c.split('_'))>1:\n",
    "        feat=c.split('_')[0]\n",
    "        ff=c.split('_')[1]\n",
    "        san_te[c]=transform_feat(san_tr,feat,ff)\n",
    "    else:\n",
    "        pass"
   ]
  },
  {
   "cell_type": "code",
   "execution_count": null,
   "metadata": {},
   "outputs": [],
   "source": [
    "san_te[col_met].head()"
   ]
  },
  {
   "cell_type": "code",
   "execution_count": null,
   "metadata": {},
   "outputs": [],
   "source": []
  }
 ],
 "metadata": {
  "kernelspec": {
   "display_name": "Python [conda env:snakes3_gpu]",
   "language": "python",
   "name": "conda-env-snakes3_gpu-py"
  },
  "language_info": {
   "codemirror_mode": {
    "name": "ipython",
    "version": 3
   },
   "file_extension": ".py",
   "mimetype": "text/x-python",
   "name": "python",
   "nbconvert_exporter": "python",
   "pygments_lexer": "ipython3",
   "version": "3.5.2"
  }
 },
 "nbformat": 4,
 "nbformat_minor": 2
}
