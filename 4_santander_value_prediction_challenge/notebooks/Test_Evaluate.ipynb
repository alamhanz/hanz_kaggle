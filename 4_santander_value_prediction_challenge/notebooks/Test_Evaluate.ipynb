{
 "cells": [
  {
   "cell_type": "code",
   "execution_count": 1,
   "metadata": {},
   "outputs": [],
   "source": [
    "import pandas as pd\n",
    "import numpy as np\n",
    "import pickle"
   ]
  },
  {
   "cell_type": "code",
   "execution_count": 2,
   "metadata": {},
   "outputs": [],
   "source": [
    "data_path='../raw_data/'\n",
    "interdata_path='../interdata/'\n",
    "model_path='../models/'"
   ]
  },
  {
   "cell_type": "code",
   "execution_count": 3,
   "metadata": {},
   "outputs": [],
   "source": [
    "san_te=pd.read_csv(data_path+'test.csv')"
   ]
  },
  {
   "cell_type": "code",
   "execution_count": 4,
   "metadata": {},
   "outputs": [],
   "source": [
    "def transform_feat(df,c,func='sqrt'):\n",
    "    if func=='sqrt':\n",
    "        return np.sqrt(df[c])\n",
    "    elif func=='quadratic':\n",
    "        return df[c]**2\n",
    "    elif func=='ln':\n",
    "        return np.log(df[c]+1)\n",
    "    elif func=='log10':\n",
    "        return np.log10(df[c]+1)\n",
    "    elif func=='logistic':\n",
    "        return 1/(1+np.exp(-df[c]))\n",
    "    elif func=='exp':\n",
    "        return np.exp(-df[c])\n",
    "    else:\n",
    "        return 1"
   ]
  },
  {
   "cell_type": "code",
   "execution_count": 5,
   "metadata": {},
   "outputs": [],
   "source": [
    "funcs=['sqrt','quadratic','ln','log10','logistic','exp']"
   ]
  },
  {
   "cell_type": "markdown",
   "metadata": {},
   "source": [
    "## Model_San1"
   ]
  },
  {
   "cell_type": "code",
   "execution_count": 9,
   "metadata": {},
   "outputs": [],
   "source": [
    "san_tr1=pd.read_csv(interdata_path+\"data_train_transform_only.csv\")\n",
    "# Model\n",
    "Model_San1 = pickle.load(open(model_path+'Model_San1.sav', 'rb'))"
   ]
  },
  {
   "cell_type": "code",
   "execution_count": 10,
   "metadata": {},
   "outputs": [],
   "source": [
    "col_met=san_tr1.columns.tolist()\n",
    "del san_tr1"
   ]
  },
  {
   "cell_type": "code",
   "execution_count": null,
   "metadata": {},
   "outputs": [],
   "source": [
    "for c in col_met:\n",
    "    if len(c.split('_'))>1:\n",
    "        feat=c.split('_')[0]\n",
    "        ff=c.split('_')[1]\n",
    "        san_te[c]=transform_feat(san_te,feat,ff)\n",
    "        del san_te[feat]\n",
    "    else:\n",
    "        pass"
   ]
  },
  {
   "cell_type": "code",
   "execution_count": null,
   "metadata": {},
   "outputs": [],
   "source": [
    "san_te[col_met].head()"
   ]
  },
  {
   "cell_type": "code",
   "execution_count": null,
   "metadata": {},
   "outputs": [],
   "source": []
  },
  {
   "cell_type": "markdown",
   "metadata": {},
   "source": [
    "## Model_San2"
   ]
  },
  {
   "cell_type": "code",
   "execution_count": 6,
   "metadata": {},
   "outputs": [],
   "source": [
    "metric_use2=['58e2e02e6',\n",
    " 'f190486d6_sqrt',\n",
    " 'b43a7cfd5',\n",
    " '9fd594eec',\n",
    " 'eeb9cd3aa_sqrt',\n",
    " '024c577b9',\n",
    " '58e056e12',\n",
    " '58232a6fb',\n",
    " '26fc93eb7',\n",
    " '15ace8c9f_sqrt',\n",
    " 'd6bb78916',\n",
    " '6eef030c1',\n",
    " '20aa07010',\n",
    " '96b6bd42b',\n",
    " '2a83c3267',\n",
    " '66ace2992',\n",
    " 'b4da814b8_quadratic',\n",
    " 'c1ad8b95a_quadratic',\n",
    " '13bdd610a_sqrt',\n",
    " 'd9dc805dd_quadratic',\n",
    " '4824c1e90',\n",
    " '00f844fea',\n",
    " 'f74e8f13d',\n",
    " '491b9ee45',\n",
    " 'b4cfe861f_sqrt',\n",
    " 'e078302ef_sqrt',\n",
    " '4edc3388d',\n",
    " '9280f3d04',\n",
    " 'bf6e38e39_quadratic',\n",
    " 'e53805953',\n",
    " 'd3022e2f1_quadratic',\n",
    " 'c928b4b74_sqrt',\n",
    " 'f32763afc',\n",
    " '57dd44c29_sqrt',\n",
    " '1702b5bf0',\n",
    " '6d0d72180',\n",
    " 'fb0f5dbfe_sqrt',\n",
    " 'e43343256',\n",
    " '1477c751e_quadratic',\n",
    " '4d2671746_sqrt',\n",
    " '1db387535',\n",
    " '23310aa6f',\n",
    " 'c5a231d81',\n",
    " '5ee81cb6e',\n",
    " 'afac06058_sqrt',\n",
    " '899dbe405_quadratic',\n",
    " 'c10f31664',\n",
    " '2862eec4f_quadratic',\n",
    " 'edc84139a',\n",
    " 'b64425521_quadratic',\n",
    " '879e1f51a',\n",
    " '28bc37378_quadratic',\n",
    " '2e103d632_sqrt',\n",
    " '9d4428628',\n",
    " '4ecc3f505',\n",
    " '4c2064b00',\n",
    " 'cc0045289_sqrt',\n",
    " '36a131c2c_quadratic',\n",
    " '857020d0f',\n",
    " 'bbe4423a3']"
   ]
  },
  {
   "cell_type": "code",
   "execution_count": 7,
   "metadata": {},
   "outputs": [],
   "source": [
    "metric_use2_c=[c.split('_')[0] for c in metric_use2]"
   ]
  },
  {
   "cell_type": "code",
   "execution_count": 9,
   "metadata": {},
   "outputs": [],
   "source": [
    "san_te2=san_te[metric_use2_c+[\"ID\"]]\n",
    "del san_te"
   ]
  },
  {
   "cell_type": "code",
   "execution_count": null,
   "metadata": {},
   "outputs": [],
   "source": []
  },
  {
   "cell_type": "code",
   "execution_count": 10,
   "metadata": {},
   "outputs": [],
   "source": [
    "# san_tr1=pd.read_csv(interdata_path+\"data_train_transform_only.csv\")\n",
    "# Model\n",
    "Model_San1 = pickle.load(open(model_path+'Model_San2.sav', 'rb'))\n",
    "Norm1=pickle.load(open(model_path+'norm1.sav', 'rb'))"
   ]
  },
  {
   "cell_type": "code",
   "execution_count": null,
   "metadata": {},
   "outputs": [],
   "source": [
    "san_te2"
   ]
  },
  {
   "cell_type": "code",
   "execution_count": null,
   "metadata": {},
   "outputs": [],
   "source": []
  },
  {
   "cell_type": "code",
   "execution_count": 10,
   "metadata": {},
   "outputs": [],
   "source": [
    "col_met=san_tr1.columns.tolist()\n",
    "del san_tr1"
   ]
  },
  {
   "cell_type": "code",
   "execution_count": null,
   "metadata": {},
   "outputs": [],
   "source": [
    "for c in col_met:\n",
    "    if len(c.split('_'))>1:\n",
    "        feat=c.split('_')[0]\n",
    "        ff=c.split('_')[1]\n",
    "        san_te[c]=transform_feat(san_te,feat,ff)\n",
    "        del san_te[feat]\n",
    "    else:\n",
    "        pass"
   ]
  },
  {
   "cell_type": "code",
   "execution_count": null,
   "metadata": {},
   "outputs": [],
   "source": [
    "san_te[col_met].head()"
   ]
  }
 ],
 "metadata": {
  "kernelspec": {
   "display_name": "Python [conda env:snakes3_gpu]",
   "language": "python",
   "name": "conda-env-snakes3_gpu-py"
  },
  "language_info": {
   "codemirror_mode": {
    "name": "ipython",
    "version": 3
   },
   "file_extension": ".py",
   "mimetype": "text/x-python",
   "name": "python",
   "nbconvert_exporter": "python",
   "pygments_lexer": "ipython3",
   "version": "3.5.2"
  }
 },
 "nbformat": 4,
 "nbformat_minor": 2
}
