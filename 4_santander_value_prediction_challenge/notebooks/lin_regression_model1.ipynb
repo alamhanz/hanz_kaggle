{
 "cells": [
  {
   "cell_type": "code",
   "execution_count": 1,
   "metadata": {},
   "outputs": [],
   "source": [
    "import pandas as pd\n",
    "import statsmodels.api as sm\n",
    "from sklearn.linear_model import LinearRegression,HuberRegressor,Lasso\n",
    "from sklearn.ensemble import AdaBoostRegressor\n",
    "from sklearn.model_selection import cross_val_score, train_test_split\n",
    "import numpy as np"
   ]
  },
  {
   "cell_type": "code",
   "execution_count": 2,
   "metadata": {},
   "outputs": [],
   "source": [
    "data_path='../raw_data/'\n",
    "interdata_path='../interdata/'\n",
    "model_path='../models/'"
   ]
  },
  {
   "cell_type": "code",
   "execution_count": 3,
   "metadata": {},
   "outputs": [],
   "source": [
    "def custom_RMSLE(model,X,y_true):\n",
    "    y_pred=model.predict(X)\n",
    "    y_pred=y_pred.reshape(1,len(y_pred))[0]\n",
    "    sum_term=sum([(np.log(y_pred[i]+1)-np.log(y_true[i]+1))**2 for i in range(len(y_true))])\n",
    "    return np.sqrt(sum_term/float(len(y_true)))"
   ]
  },
  {
   "cell_type": "code",
   "execution_count": null,
   "metadata": {},
   "outputs": [],
   "source": []
  },
  {
   "cell_type": "markdown",
   "metadata": {},
   "source": [
    "### Data with transformation PCA"
   ]
  },
  {
   "cell_type": "code",
   "execution_count": 4,
   "metadata": {},
   "outputs": [],
   "source": [
    "dtr_transf=pd.read_csv(interdata_path+\"data_train_transform_PCA1.csv\")"
   ]
  },
  {
   "cell_type": "code",
   "execution_count": 5,
   "metadata": {},
   "outputs": [
    {
     "data": {
      "text/html": [
       "<div>\n",
       "<table border=\"1\" class=\"dataframe\">\n",
       "  <thead>\n",
       "    <tr style=\"text-align: right;\">\n",
       "      <th></th>\n",
       "      <th>pca_col_0</th>\n",
       "      <th>pca_col_1</th>\n",
       "      <th>pca_col_2</th>\n",
       "      <th>pca_col_3</th>\n",
       "      <th>pca_col_4</th>\n",
       "      <th>pca_col_5</th>\n",
       "      <th>pca_col_6</th>\n",
       "      <th>pca_col_7</th>\n",
       "      <th>pca_col_8</th>\n",
       "      <th>pca_col_9</th>\n",
       "      <th>...</th>\n",
       "      <th>pca_col_3544</th>\n",
       "      <th>pca_col_3545</th>\n",
       "      <th>pca_col_3546</th>\n",
       "      <th>pca_col_3547</th>\n",
       "      <th>pca_col_3548</th>\n",
       "      <th>pca_col_3549</th>\n",
       "      <th>pca_col_3550</th>\n",
       "      <th>pca_col_3551</th>\n",
       "      <th>ID</th>\n",
       "      <th>target</th>\n",
       "    </tr>\n",
       "  </thead>\n",
       "  <tbody>\n",
       "    <tr>\n",
       "      <th>0</th>\n",
       "      <td>-8.959082e+13</td>\n",
       "      <td>-3.657993e+14</td>\n",
       "      <td>-7.824701e+13</td>\n",
       "      <td>-1.140064e+14</td>\n",
       "      <td>-7.610042e+12</td>\n",
       "      <td>-4.340431e+13</td>\n",
       "      <td>-1.629594e+14</td>\n",
       "      <td>-6.947703e+13</td>\n",
       "      <td>-5.781918e+13</td>\n",
       "      <td>-9.198672e+13</td>\n",
       "      <td>...</td>\n",
       "      <td>-0.002135</td>\n",
       "      <td>-0.009586</td>\n",
       "      <td>-0.026318</td>\n",
       "      <td>-0.025466</td>\n",
       "      <td>0.002656</td>\n",
       "      <td>0.040873</td>\n",
       "      <td>-0.046420</td>\n",
       "      <td>-0.000065</td>\n",
       "      <td>000d6aaf2</td>\n",
       "      <td>38000000.0</td>\n",
       "    </tr>\n",
       "    <tr>\n",
       "      <th>1</th>\n",
       "      <td>-8.956127e+13</td>\n",
       "      <td>-3.658393e+14</td>\n",
       "      <td>-7.826238e+13</td>\n",
       "      <td>-1.140259e+14</td>\n",
       "      <td>-7.618545e+12</td>\n",
       "      <td>-4.342704e+13</td>\n",
       "      <td>-1.630030e+14</td>\n",
       "      <td>-6.951986e+13</td>\n",
       "      <td>-5.784884e+13</td>\n",
       "      <td>-9.241282e+13</td>\n",
       "      <td>...</td>\n",
       "      <td>0.003328</td>\n",
       "      <td>-0.012693</td>\n",
       "      <td>-0.007876</td>\n",
       "      <td>0.018808</td>\n",
       "      <td>0.019926</td>\n",
       "      <td>-0.002182</td>\n",
       "      <td>0.007363</td>\n",
       "      <td>-0.001374</td>\n",
       "      <td>000fbd867</td>\n",
       "      <td>600000.0</td>\n",
       "    </tr>\n",
       "    <tr>\n",
       "      <th>2</th>\n",
       "      <td>-8.958910e+13</td>\n",
       "      <td>-3.657994e+14</td>\n",
       "      <td>-7.824748e+13</td>\n",
       "      <td>-1.140077e+14</td>\n",
       "      <td>-7.612261e+12</td>\n",
       "      <td>-4.340350e+13</td>\n",
       "      <td>-1.629533e+14</td>\n",
       "      <td>-6.947789e+13</td>\n",
       "      <td>-5.783108e+13</td>\n",
       "      <td>-9.234091e+13</td>\n",
       "      <td>...</td>\n",
       "      <td>-0.000331</td>\n",
       "      <td>-0.009591</td>\n",
       "      <td>-0.032700</td>\n",
       "      <td>0.005454</td>\n",
       "      <td>-0.003301</td>\n",
       "      <td>0.023273</td>\n",
       "      <td>0.011570</td>\n",
       "      <td>-0.012996</td>\n",
       "      <td>0027d6b71</td>\n",
       "      <td>10000000.0</td>\n",
       "    </tr>\n",
       "    <tr>\n",
       "      <th>3</th>\n",
       "      <td>-8.958897e+13</td>\n",
       "      <td>-3.658014e+14</td>\n",
       "      <td>-7.825021e+13</td>\n",
       "      <td>-1.140059e+14</td>\n",
       "      <td>-7.617721e+12</td>\n",
       "      <td>-4.340254e+13</td>\n",
       "      <td>-1.629530e+14</td>\n",
       "      <td>-6.947771e+13</td>\n",
       "      <td>-5.783022e+13</td>\n",
       "      <td>-9.234094e+13</td>\n",
       "      <td>...</td>\n",
       "      <td>-0.011286</td>\n",
       "      <td>-0.003275</td>\n",
       "      <td>-0.004172</td>\n",
       "      <td>0.008948</td>\n",
       "      <td>-0.019142</td>\n",
       "      <td>0.002685</td>\n",
       "      <td>0.028677</td>\n",
       "      <td>-0.007835</td>\n",
       "      <td>0028cbf45</td>\n",
       "      <td>2000000.0</td>\n",
       "    </tr>\n",
       "    <tr>\n",
       "      <th>4</th>\n",
       "      <td>-8.959706e+13</td>\n",
       "      <td>-3.658004e+14</td>\n",
       "      <td>-7.822764e+13</td>\n",
       "      <td>-1.140227e+14</td>\n",
       "      <td>-7.585937e+12</td>\n",
       "      <td>-4.338156e+13</td>\n",
       "      <td>-1.629740e+14</td>\n",
       "      <td>-6.951006e+13</td>\n",
       "      <td>-5.782306e+13</td>\n",
       "      <td>-9.236635e+13</td>\n",
       "      <td>...</td>\n",
       "      <td>0.020608</td>\n",
       "      <td>-0.009794</td>\n",
       "      <td>-0.007232</td>\n",
       "      <td>0.003920</td>\n",
       "      <td>-0.036155</td>\n",
       "      <td>-0.042775</td>\n",
       "      <td>0.016884</td>\n",
       "      <td>0.000139</td>\n",
       "      <td>002a68644</td>\n",
       "      <td>14400000.0</td>\n",
       "    </tr>\n",
       "  </tbody>\n",
       "</table>\n",
       "<p>5 rows × 3554 columns</p>\n",
       "</div>"
      ],
      "text/plain": [
       "      pca_col_0     pca_col_1     pca_col_2     pca_col_3     pca_col_4  \\\n",
       "0 -8.959082e+13 -3.657993e+14 -7.824701e+13 -1.140064e+14 -7.610042e+12   \n",
       "1 -8.956127e+13 -3.658393e+14 -7.826238e+13 -1.140259e+14 -7.618545e+12   \n",
       "2 -8.958910e+13 -3.657994e+14 -7.824748e+13 -1.140077e+14 -7.612261e+12   \n",
       "3 -8.958897e+13 -3.658014e+14 -7.825021e+13 -1.140059e+14 -7.617721e+12   \n",
       "4 -8.959706e+13 -3.658004e+14 -7.822764e+13 -1.140227e+14 -7.585937e+12   \n",
       "\n",
       "      pca_col_5     pca_col_6     pca_col_7     pca_col_8     pca_col_9  \\\n",
       "0 -4.340431e+13 -1.629594e+14 -6.947703e+13 -5.781918e+13 -9.198672e+13   \n",
       "1 -4.342704e+13 -1.630030e+14 -6.951986e+13 -5.784884e+13 -9.241282e+13   \n",
       "2 -4.340350e+13 -1.629533e+14 -6.947789e+13 -5.783108e+13 -9.234091e+13   \n",
       "3 -4.340254e+13 -1.629530e+14 -6.947771e+13 -5.783022e+13 -9.234094e+13   \n",
       "4 -4.338156e+13 -1.629740e+14 -6.951006e+13 -5.782306e+13 -9.236635e+13   \n",
       "\n",
       "      ...      pca_col_3544  pca_col_3545  pca_col_3546  pca_col_3547  \\\n",
       "0     ...         -0.002135     -0.009586     -0.026318     -0.025466   \n",
       "1     ...          0.003328     -0.012693     -0.007876      0.018808   \n",
       "2     ...         -0.000331     -0.009591     -0.032700      0.005454   \n",
       "3     ...         -0.011286     -0.003275     -0.004172      0.008948   \n",
       "4     ...          0.020608     -0.009794     -0.007232      0.003920   \n",
       "\n",
       "   pca_col_3548  pca_col_3549  pca_col_3550  pca_col_3551         ID  \\\n",
       "0      0.002656      0.040873     -0.046420     -0.000065  000d6aaf2   \n",
       "1      0.019926     -0.002182      0.007363     -0.001374  000fbd867   \n",
       "2     -0.003301      0.023273      0.011570     -0.012996  0027d6b71   \n",
       "3     -0.019142      0.002685      0.028677     -0.007835  0028cbf45   \n",
       "4     -0.036155     -0.042775      0.016884      0.000139  002a68644   \n",
       "\n",
       "       target  \n",
       "0  38000000.0  \n",
       "1    600000.0  \n",
       "2  10000000.0  \n",
       "3   2000000.0  \n",
       "4  14400000.0  \n",
       "\n",
       "[5 rows x 3554 columns]"
      ]
     },
     "execution_count": 5,
     "metadata": {},
     "output_type": "execute_result"
    }
   ],
   "source": [
    "dtr_transf.head()"
   ]
  },
  {
   "cell_type": "code",
   "execution_count": 6,
   "metadata": {},
   "outputs": [],
   "source": [
    "dtr_transf[\"intrc\"]=1"
   ]
  },
  {
   "cell_type": "code",
   "execution_count": 7,
   "metadata": {},
   "outputs": [],
   "source": [
    "col_X=list(set(dtr_transf.columns)-set([\"ID\",\"target\"]))"
   ]
  },
  {
   "cell_type": "code",
   "execution_count": 8,
   "metadata": {},
   "outputs": [],
   "source": [
    "X1=dtr_transf[col_X].as_matrix()\n",
    "y1=dtr_transf[[\"target\"]].as_matrix()"
   ]
  },
  {
   "cell_type": "code",
   "execution_count": 9,
   "metadata": {},
   "outputs": [],
   "source": [
    "X1_tr,X1_te,y1_tr,y1_te=train_test_split(X1,y1,test_size=0.2,random_state=211)"
   ]
  },
  {
   "cell_type": "code",
   "execution_count": 10,
   "metadata": {},
   "outputs": [],
   "source": [
    "mod1=LinearRegression()"
   ]
  },
  {
   "cell_type": "code",
   "execution_count": 11,
   "metadata": {},
   "outputs": [
    {
     "name": "stderr",
     "output_type": "stream",
     "text": [
      "C:\\Users\\Aska\\Anaconda2\\envs\\snakes3_gpu\\lib\\site-packages\\ipykernel\\__main__.py:4: RuntimeWarning: invalid value encountered in log\n",
      "C:\\Users\\Aska\\Anaconda2\\envs\\snakes3_gpu\\lib\\site-packages\\ipykernel\\__main__.py:4: RuntimeWarning: invalid value encountered in log\n",
      "C:\\Users\\Aska\\Anaconda2\\envs\\snakes3_gpu\\lib\\site-packages\\ipykernel\\__main__.py:4: RuntimeWarning: invalid value encountered in log\n",
      "C:\\Users\\Aska\\Anaconda2\\envs\\snakes3_gpu\\lib\\site-packages\\ipykernel\\__main__.py:4: RuntimeWarning: invalid value encountered in log\n",
      "C:\\Users\\Aska\\Anaconda2\\envs\\snakes3_gpu\\lib\\site-packages\\ipykernel\\__main__.py:4: RuntimeWarning: invalid value encountered in log\n",
      "[Parallel(n_jobs=1)]: Done   5 out of   5 | elapsed:  1.8min finished\n"
     ]
    }
   ],
   "source": [
    "cross_mod1=cross_val_score(mod1,X1_tr,y1_tr,cv=5,verbose=1,scoring=custom_RMSLE)"
   ]
  },
  {
   "cell_type": "code",
   "execution_count": 12,
   "metadata": {},
   "outputs": [
    {
     "data": {
      "text/plain": [
       "array([ nan,  nan,  nan,  nan,  nan])"
      ]
     },
     "execution_count": 12,
     "metadata": {},
     "output_type": "execute_result"
    }
   ],
   "source": [
    "cross_mod1"
   ]
  },
  {
   "cell_type": "code",
   "execution_count": null,
   "metadata": {},
   "outputs": [],
   "source": []
  },
  {
   "cell_type": "code",
   "execution_count": null,
   "metadata": {},
   "outputs": [],
   "source": []
  },
  {
   "cell_type": "code",
   "execution_count": null,
   "metadata": {},
   "outputs": [],
   "source": []
  },
  {
   "cell_type": "code",
   "execution_count": null,
   "metadata": {},
   "outputs": [],
   "source": []
  }
 ],
 "metadata": {
  "kernelspec": {
   "display_name": "Python [conda env:snakes3_gpu]",
   "language": "python",
   "name": "conda-env-snakes3_gpu-py"
  },
  "language_info": {
   "codemirror_mode": {
    "name": "ipython",
    "version": 3
   },
   "file_extension": ".py",
   "mimetype": "text/x-python",
   "name": "python",
   "nbconvert_exporter": "python",
   "pygments_lexer": "ipython3",
   "version": "3.5.2"
  }
 },
 "nbformat": 4,
 "nbformat_minor": 2
}
