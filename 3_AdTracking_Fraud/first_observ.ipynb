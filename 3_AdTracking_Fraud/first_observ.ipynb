{
 "cells": [
  {
   "cell_type": "code",
   "execution_count": 6,
   "metadata": {},
   "outputs": [],
   "source": [
    "%matplotlib inline\n",
    "import pandas as pd"
   ]
  },
  {
   "cell_type": "code",
   "execution_count": 2,
   "metadata": {},
   "outputs": [],
   "source": [
    "dm=pd.read_csv('train_sample.csv')"
   ]
  },
  {
   "cell_type": "code",
   "execution_count": 3,
   "metadata": {},
   "outputs": [
    {
     "data": {
      "text/html": [
       "<div>\n",
       "<table border=\"1\" class=\"dataframe\">\n",
       "  <thead>\n",
       "    <tr style=\"text-align: right;\">\n",
       "      <th></th>\n",
       "      <th>ip</th>\n",
       "      <th>app</th>\n",
       "      <th>device</th>\n",
       "      <th>os</th>\n",
       "      <th>channel</th>\n",
       "      <th>click_time</th>\n",
       "      <th>attributed_time</th>\n",
       "      <th>is_attributed</th>\n",
       "    </tr>\n",
       "  </thead>\n",
       "  <tbody>\n",
       "    <tr>\n",
       "      <th>0</th>\n",
       "      <td>87540</td>\n",
       "      <td>12</td>\n",
       "      <td>1</td>\n",
       "      <td>13</td>\n",
       "      <td>497</td>\n",
       "      <td>2017-11-07 09:30:38</td>\n",
       "      <td>NaN</td>\n",
       "      <td>0</td>\n",
       "    </tr>\n",
       "    <tr>\n",
       "      <th>1</th>\n",
       "      <td>105560</td>\n",
       "      <td>25</td>\n",
       "      <td>1</td>\n",
       "      <td>17</td>\n",
       "      <td>259</td>\n",
       "      <td>2017-11-07 13:40:27</td>\n",
       "      <td>NaN</td>\n",
       "      <td>0</td>\n",
       "    </tr>\n",
       "    <tr>\n",
       "      <th>2</th>\n",
       "      <td>101424</td>\n",
       "      <td>12</td>\n",
       "      <td>1</td>\n",
       "      <td>19</td>\n",
       "      <td>212</td>\n",
       "      <td>2017-11-07 18:05:24</td>\n",
       "      <td>NaN</td>\n",
       "      <td>0</td>\n",
       "    </tr>\n",
       "    <tr>\n",
       "      <th>3</th>\n",
       "      <td>94584</td>\n",
       "      <td>13</td>\n",
       "      <td>1</td>\n",
       "      <td>13</td>\n",
       "      <td>477</td>\n",
       "      <td>2017-11-07 04:58:08</td>\n",
       "      <td>NaN</td>\n",
       "      <td>0</td>\n",
       "    </tr>\n",
       "    <tr>\n",
       "      <th>4</th>\n",
       "      <td>68413</td>\n",
       "      <td>12</td>\n",
       "      <td>1</td>\n",
       "      <td>1</td>\n",
       "      <td>178</td>\n",
       "      <td>2017-11-09 09:00:09</td>\n",
       "      <td>NaN</td>\n",
       "      <td>0</td>\n",
       "    </tr>\n",
       "  </tbody>\n",
       "</table>\n",
       "</div>"
      ],
      "text/plain": [
       "       ip  app  device  os  channel           click_time attributed_time  \\\n",
       "0   87540   12       1  13      497  2017-11-07 09:30:38             NaN   \n",
       "1  105560   25       1  17      259  2017-11-07 13:40:27             NaN   \n",
       "2  101424   12       1  19      212  2017-11-07 18:05:24             NaN   \n",
       "3   94584   13       1  13      477  2017-11-07 04:58:08             NaN   \n",
       "4   68413   12       1   1      178  2017-11-09 09:00:09             NaN   \n",
       "\n",
       "   is_attributed  \n",
       "0              0  \n",
       "1              0  \n",
       "2              0  \n",
       "3              0  \n",
       "4              0  "
      ]
     },
     "execution_count": 3,
     "metadata": {},
     "output_type": "execute_result"
    }
   ],
   "source": [
    "dm.head()"
   ]
  },
  {
   "cell_type": "code",
   "execution_count": 11,
   "metadata": {},
   "outputs": [
    {
     "data": {
      "text/plain": [
       "<matplotlib.axes._subplots.AxesSubplot at 0xe20e2e8>"
      ]
     },
     "execution_count": 11,
     "metadata": {},
     "output_type": "execute_result"
    },
    {
     "data": {
      "image/png": "[encoded data removed]",
      "text/plain": [
       "<matplotlib.figure.Figure at 0xe0dbc18>"
      ]
     },
     "metadata": {},
     "output_type": "display_data"
    }
   ],
   "source": [
    "dm.groupby('is_attributed').agg({'is_attributed':'count'}).plot(kind='bar',figsize=(8,5))"
   ]
  },
  {
   "cell_type": "code",
   "execution_count": 14,
   "metadata": {},
   "outputs": [
    {
     "data": {
      "text/html": [
       "<div>\n",
       "<table border=\"1\" class=\"dataframe\">\n",
       "  <thead>\n",
       "    <tr style=\"text-align: right;\">\n",
       "      <th></th>\n",
       "      <th>is_attributed</th>\n",
       "    </tr>\n",
       "    <tr>\n",
       "      <th>is_attributed</th>\n",
       "      <th></th>\n",
       "    </tr>\n",
       "  </thead>\n",
       "  <tbody>\n",
       "    <tr>\n",
       "      <th>0</th>\n",
       "      <td>0.99773</td>\n",
       "    </tr>\n",
       "    <tr>\n",
       "      <th>1</th>\n",
       "      <td>0.00227</td>\n",
       "    </tr>\n",
       "  </tbody>\n",
       "</table>\n",
       "</div>"
      ],
      "text/plain": [
       "               is_attributed\n",
       "is_attributed               \n",
       "0                    0.99773\n",
       "1                    0.00227"
      ]
     },
     "execution_count": 14,
     "metadata": {},
     "output_type": "execute_result"
    }
   ],
   "source": [
    "dg=dm.groupby('is_attributed').agg({'is_attributed':'count'})\n",
    "dg/dg.sum()"
   ]
  },
  {
   "cell_type": "code",
   "execution_count": 19,
   "metadata": {},
   "outputs": [],
   "source": [
    "dm.click_time=pd.to_datetime(dm.click_time)"
   ]
  },
  {
   "cell_type": "code",
   "execution_count": 20,
   "metadata": {},
   "outputs": [
    {
     "data": {
      "text/plain": [
       "0       2017-11-07 09:30:38\n",
       "1       2017-11-07 13:40:27\n",
       "2       2017-11-07 18:05:24\n",
       "3       2017-11-07 04:58:08\n",
       "4       2017-11-09 09:00:09\n",
       "5       2017-11-09 01:22:13\n",
       "6       2017-11-09 01:17:58\n",
       "7       2017-11-07 10:01:53\n",
       "8       2017-11-08 09:35:17\n",
       "9       2017-11-08 12:35:26\n",
       "10      2017-11-08 08:14:37\n",
       "11      2017-11-07 05:03:14\n",
       "12      2017-11-09 10:24:23\n",
       "13      2017-11-08 14:46:16\n",
       "14      2017-11-07 00:54:09\n",
       "15      2017-11-08 23:17:45\n",
       "16      2017-11-09 07:33:41\n",
       "17      2017-11-09 03:44:35\n",
       "18      2017-11-06 23:14:08\n",
       "19      2017-11-06 20:07:00\n",
       "20      2017-11-09 09:55:22\n",
       "21      2017-11-08 17:01:58\n",
       "22      2017-11-08 02:05:37\n",
       "23      2017-11-07 10:30:00\n",
       "24      2017-11-07 01:35:31\n",
       "25      2017-11-07 03:58:58\n",
       "26      2017-11-07 16:19:05\n",
       "27      2017-11-07 17:22:52\n",
       "28      2017-11-07 06:39:04\n",
       "29      2017-11-07 10:11:50\n",
       "                ...        \n",
       "99970   2017-11-09 13:35:55\n",
       "99971   2017-11-08 00:30:44\n",
       "99972   2017-11-07 05:02:52\n",
       "99973   2017-11-09 00:59:38\n",
       "99974   2017-11-08 08:08:40\n",
       "99975   2017-11-09 15:32:57\n",
       "99976   2017-11-07 22:59:12\n",
       "99977   2017-11-09 14:22:21\n",
       "99978   2017-11-09 11:47:49\n",
       "99979   2017-11-09 11:19:28\n",
       "99980   2017-11-08 12:58:11\n",
       "99981   2017-11-09 06:50:25\n",
       "99982   2017-11-09 02:09:20\n",
       "99983   2017-11-07 01:48:00\n",
       "99984   2017-11-07 05:02:01\n",
       "99985   2017-11-09 01:50:53\n",
       "99986   2017-11-07 11:27:54\n",
       "99987   2017-11-08 13:19:42\n",
       "99988   2017-11-09 13:53:30\n",
       "99989   2017-11-07 11:02:08\n",
       "99990   2017-11-09 04:21:28\n",
       "99991   2017-11-09 12:42:34\n",
       "99992   2017-11-07 09:33:14\n",
       "99993   2017-11-09 03:03:17\n",
       "99994   2017-11-07 07:34:13\n",
       "99995   2017-11-09 13:25:41\n",
       "99996   2017-11-07 11:25:43\n",
       "99997   2017-11-08 11:38:42\n",
       "99998   2017-11-08 17:55:21\n",
       "99999   2017-11-07 14:32:27\n",
       "Name: click_time, dtype: datetime64[ns]"
      ]
     },
     "execution_count": 20,
     "metadata": {},
     "output_type": "execute_result"
    }
   ],
   "source": [
    "dm.click_time"
   ]
  },
  {
   "cell_type": "code",
   "execution_count": null,
   "metadata": {},
   "outputs": [],
   "source": []
  }
 ],
 "metadata": {
  "kernelspec": {
   "display_name": "Python [default]",
   "language": "python",
   "name": "python2"
  },
  "language_info": {
   "codemirror_mode": {
    "name": "ipython",
    "version": 2
   },
   "file_extension": ".py",
   "mimetype": "text/x-python",
   "name": "python",
   "nbconvert_exporter": "python",
   "pygments_lexer": "ipython2",
   "version": "2.7.12"
  }
 },
 "nbformat": 4,
 "nbformat_minor": 2
}
